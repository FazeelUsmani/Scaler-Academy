{
 "cells": [
  {
   "cell_type": "code",
   "execution_count": null,
   "metadata": {},
   "outputs": [],
   "source": [
    "Next Permutation\n",
    "Implement the next permutation, which rearranges numbers into the numerically next greater permutation of numbers for a given array A of size N. If such arrangement is not possible, it must be rearranged as the lowest possible order i.e., sorted in an ascending order. Note:\n",
    "1. The replacement must be in-place, do **not** allocate extra memory.\n",
    "2. DO NOT USE LIBRARY FUNCTION FOR NEXT PERMUTATION. Use of Library functions will disqualify your submission retroactively and will give you penalty points.\n",
    "Input Format:\n",
    "The first and the only argument of input has an array of integers, A.\n",
    "Output Format:\n",
    "Return an array of integers, representing the next permutation of the given array.\n",
    "Constraints:\n",
    "1 <= N <= 5e5\n",
    "1 <= A[i] <= 1e9\n",
    "Examples:\n",
    "Input 1:\n",
    "    A = [1, 2, 3]\n",
    "\n",
    "Output 1:\n",
    "    [1, 3, 2]\n",
    "\n",
    "Input 2:\n",
    "    A = [3, 2, 1]\n",
    "\n",
    "Output 2:\n",
    "    [1, 2, 3]\n",
    "\n",
    "Input 3:\n",
    "    A = [1, 1, 5]\n",
    "\n",
    "Output 3:\n",
    "    [1, 5, 1]\n",
    "\n",
    "Input 4:\n",
    "    A = [20, 50, 113]\n",
    "\n",
    "Output 4:\n",
    "    [20, 113, 50]"
   ]
  },
  {
   "cell_type": "code",
   "execution_count": 15,
   "metadata": {},
   "outputs": [
    {
     "data": {
      "text/plain": [
       "[4, 5, 1, 2, 3]"
      ]
     },
     "execution_count": 15,
     "metadata": {},
     "output_type": "execute_result"
    }
   ],
   "source": [
    "import sys\n",
    "class Solution:\n",
    "    # @param A : list of integers\n",
    "    # @return a list of integers\n",
    "  def nextPermutation(self, arr):\n",
    "            \n",
    "    n = len(arr)\n",
    "    pInf = sys.maxsize\n",
    "    minEleIndex, startIndex, nextIndex = 0, 0, 0\n",
    "\n",
    "    for i in range(n-1, -1, -1):\n",
    "\n",
    "      if arr[i-1] < arr[i]:\n",
    "        minEleIndex = i-1\n",
    "        startIndex = i\n",
    "        break\n",
    "\n",
    "    for i in range(startIndex, n):\n",
    "      x = arr[i] - arr[minEleIndex]\n",
    "      \n",
    "      if (x > 0) and (x < pInf):\n",
    "        nextIndex = i\n",
    "    \n",
    "    arr[minEleIndex], arr[nextIndex] =  arr[nextIndex], arr[minEleIndex]\n",
    "    \n",
    "    arr[startIndex:] = sorted(arr[startIndex:])\n",
    "    \n",
    "    return arr\n",
    "\n",
    "s = Solution()\n",
    "A = [4,3,5,2,1]\n",
    "s.nextPermutation(A)"
   ]
  },
  {
   "cell_type": "code",
   "execution_count": null,
   "metadata": {},
   "outputs": [],
   "source": []
  }
 ],
 "metadata": {
  "kernelspec": {
   "display_name": "Python 3",
   "language": "python",
   "name": "python3"
  },
  "language_info": {
   "codemirror_mode": {
    "name": "ipython",
    "version": 3
   },
   "file_extension": ".py",
   "mimetype": "text/x-python",
   "name": "python",
   "nbconvert_exporter": "python",
   "pygments_lexer": "ipython3",
   "version": "3.9.6"
  }
 },
 "nbformat": 4,
 "nbformat_minor": 2
}
