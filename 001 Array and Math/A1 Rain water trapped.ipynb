{
 "cells": [
  {
   "cell_type": "code",
   "execution_count": null,
   "metadata": {},
   "outputs": [],
   "source": [
    "Rain Water Trapped\n",
    "Given n non-negative integers representing an elevation map where the width of each bar is 1,\n",
    "compute how much water it is able to trap after raining. \n",
    "\n",
    "Input Format\n",
    "The only argument given is integer array A.\n",
    "Output Format\n",
    "Return the total water it is able to trap after raining..\n",
    "\n",
    "For Example\n",
    "Input 1:\n",
    "    A = [0,1,0,2,1,0,1,3,2,1,2,1]\n",
    "Output 1:\n",
    "    6\n",
    "Explaination 1:\n",
    "\n",
    "    In this case, 6 units of rain water (blue section) are being trapped."
   ]
  },
  {
   "attachments": {},
   "cell_type": "markdown",
   "metadata": {},
   "source": [
    "![1%20rain.png](img/1%20rain.png)"
   ]
  },
  {
   "cell_type": "code",
   "execution_count": 22,
   "metadata": {},
   "outputs": [
    {
     "name": "stdout",
     "output_type": "stream",
     "text": [
      "6\n",
      "9\n",
      "2107\n"
     ]
    }
   ],
   "source": [
    "\n",
    "def trap(arr):\n",
    "\n",
    "    n = len(arr)\n",
    "\n",
    "    pre = [0]*n\n",
    "\n",
    "    #calculating prefix max array\n",
    "    for i in range(1,n):\n",
    "        pre[i] = max(arr[i], pre[i-1])       \n",
    "\n",
    "    post = [0]*n\n",
    "    post[n-1] = arr[n-1]\n",
    "\n",
    "    #calculating postfix max array\n",
    "    for j in range(n-2,-1,-1):\n",
    "        post[j] = max(arr[j], post[j+1])\n",
    "\n",
    "    cnt = 0\n",
    "    for i in range(1,n-1):\n",
    "        x =  (min(pre[i], post[i]) - arr[i])\n",
    "        if x < 0:\n",
    "            pass\n",
    "        else:\n",
    "            cnt += x\n",
    "\n",
    "    return cnt\n",
    "\n",
    "    \n",
    "    \n",
    "    \n",
    "A = [0,1,0,2,1,0,1,3,2,1,2,1]\n",
    "print(trap(A))\n",
    "\n",
    "B = [3,5,3,1,5,2,7,3,1]\n",
    "print(trap(B))\n",
    "\n",
    "C = [ 56, 6, 52, 43, 23, 47, 48, 38, 96, 46, 30, 66, 80, 15, 62, 71, 61, 12, 98, 9, 28, 81, 70, 59, 95, 34, 9, 60, 70, 81, 71, 67, 58, 20, 22, 3, 95, 85, 20, 24, 74, 5, 23, 33, 75, 50, 38, 75, 68, 26, 46, 30, 75, 18, 4, 42, 51, 59, 8, 77 ]\n",
    "print(trap(C))\n"
   ]
  }
 ],
 "metadata": {
  "kernelspec": {
   "display_name": "Python 3",
   "language": "python",
   "name": "python3"
  },
  "language_info": {
   "codemirror_mode": {
    "name": "ipython",
    "version": 3
   },
   "file_extension": ".py",
   "mimetype": "text/x-python",
   "name": "python",
   "nbconvert_exporter": "python",
   "pygments_lexer": "ipython3",
   "version": "3.7.3"
  }
 },
 "nbformat": 4,
 "nbformat_minor": 2
}
