{
 "cells": [
  {
   "cell_type": "code",
   "execution_count": null,
   "metadata": {},
   "outputs": [],
   "source": [
    "Maximum Absolute Difference\n",
    "You are given an array of N integers, A1, A2 ,..., AN. \n",
    "Return maximum value of f(i, j) for all 1 ≤ i, j ≤ N. f(i, j) is defined \n",
    "as |A[i] - A[j]| + |i - j|, where |x| denotes absolute value of x. For example,\n",
    "\n",
    "A=[1, 3, -1]\n",
    "\n",
    "f(1, 1) = f(2, 2) = f(3, 3) = 0\n",
    "f(1, 2) = f(2, 1) = |1 - 3| + |1 - 2| = 3\n",
    "f(1, 3) = f(3, 1) = |1 - (-1)| + |1 - 3| = 4\n",
    "f(2, 3) = f(3, 2) = |3 - (-1)| + |2 - 3| = 5\n",
    "\n",
    "So, we return 5."
   ]
  },
  {
   "cell_type": "code",
   "execution_count": 2,
   "metadata": {},
   "outputs": [
    {
     "name": "stdout",
     "output_type": "stream",
     "text": [
      "5\n"
     ]
    }
   ],
   "source": [
    "import sys\n",
    "def maxAbs(A):\n",
    "    min1, min2, max1, max2 = sys.maxsize, sys.maxsize, 1-sys.maxsize, 1-sys.maxsize\n",
    "\n",
    "    for i in range(len(A)):\n",
    "        min1 = min(min1, A[i]+i)\n",
    "        max1 = max(max1, A[i]+i)\n",
    "        \n",
    "        min2 = min(min2, A[i] - i)\n",
    "        max2 = max(max2, A[i] - i)\n",
    "\n",
    "    return max(max1-min1, max2-min2)\n",
    "\n",
    "A = [1,3,-1]\n",
    "print(maxAbs(A))"
   ]
  }
 ],
 "metadata": {
  "kernelspec": {
   "display_name": "Python 3",
   "language": "python",
   "name": "python3"
  },
  "language_info": {
   "codemirror_mode": {
    "name": "ipython",
    "version": 3
   },
   "file_extension": ".py",
   "mimetype": "text/x-python",
   "name": "python",
   "nbconvert_exporter": "python",
   "pygments_lexer": "ipython3",
   "version": "3.9.6"
  }
 },
 "nbformat": 4,
 "nbformat_minor": 2
}
